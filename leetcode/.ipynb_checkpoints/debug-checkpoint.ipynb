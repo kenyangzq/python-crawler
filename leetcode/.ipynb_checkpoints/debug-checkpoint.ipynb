{
 "cells": [
  {
   "cell_type": "code",
   "execution_count": 1,
   "metadata": {
    "collapsed": true
   },
   "outputs": [],
   "source": [
    "import os\n",
    "import time\n",
    "from urllib import request\n",
    "from PIL import Image\n",
    "from selenium import webdriver\n",
    "from bs4 import BeautifulSoup\n",
    "from selenium.webdriver.support.ui import Select"
   ]
  },
  {
   "cell_type": "code",
   "execution_count": 2,
   "metadata": {
    "collapsed": true
   },
   "outputs": [],
   "source": [
    "from PIL import Image\n",
    "from io import BytesIO\n",
    "# from PyPDF2 import PdfFileWriter, PdfFileReader"
   ]
  },
  {
   "cell_type": "code",
   "execution_count": 3,
   "metadata": {
    "collapsed": true
   },
   "outputs": [],
   "source": [
    "driver = webdriver.Firefox(executable_path=\"/Users/ken/Desktop/python Crawler/geckodriver\")\n",
    "## need to update the following two lines before execution\n",
    "usn = \"username\"\n",
    "pwd = \"password\""
   ]
  },
  {
   "cell_type": "code",
   "execution_count": 4,
   "metadata": {
    "collapsed": true
   },
   "outputs": [],
   "source": [
    "driver.get('https://leetcode.com/accounts/login/')"
   ]
  },
  {
   "cell_type": "code",
   "execution_count": 8,
   "metadata": {
    "collapsed": true
   },
   "outputs": [],
   "source": [
    "# signin = driver.find_element_by_link_text('Sign in')\n",
    "# signin"
   ]
  },
  {
   "cell_type": "code",
   "execution_count": 5,
   "metadata": {
    "collapsed": true
   },
   "outputs": [],
   "source": [
    "driver.find_element_by_id('id_login').clear()\n",
    "driver.find_element_by_id('id_login').send_keys(usn)\n",
    "driver.find_element_by_id('id_password').clear()\n",
    "driver.find_element_by_id('id_password').send_keys(pwd)\n",
    "driver.find_element_by_xpath(\"//button[@type='submit']\").click()"
   ]
  },
  {
   "cell_type": "code",
   "execution_count": 6,
   "metadata": {
    "collapsed": true
   },
   "outputs": [],
   "source": [
    "driver.find_element_by_link_text(\"Problems\").click()"
   ]
  },
  {
   "cell_type": "code",
   "execution_count": 8,
   "metadata": {
    "collapsed": true
   },
   "outputs": [],
   "source": [
    "# select = Select(driver.find_element_by_xpath(\"//select[@class='form-control']\"))\n",
    "# select.select_by_visible_text('all')"
   ]
  },
  {
   "cell_type": "code",
   "execution_count": 7,
   "metadata": {
    "collapsed": true
   },
   "outputs": [],
   "source": [
    "problem_table = driver.find_element_by_xpath(\"/html/body/div[3]/div[3]/div[2]/div[2]/div[1]/div/div/div[2]/div[2]/div[2]/table\")"
   ]
  },
  {
   "cell_type": "code",
   "execution_count": 8,
   "metadata": {
    "collapsed": true
   },
   "outputs": [],
   "source": [
    "tables = problem_table.text.split('\\n')[1:-6]\n",
    "entrynum = int(len(tables) / 3)"
   ]
  },
  {
   "cell_type": "code",
   "execution_count": null,
   "metadata": {
    "collapsed": true
   },
   "outputs": [],
   "source": []
  },
  {
   "cell_type": "code",
   "execution_count": 9,
   "metadata": {
    "collapsed": true
   },
   "outputs": [],
   "source": [
    "problems = []\n",
    "directory = './problem_screenshot/'\n",
    "\n",
    "if os.path.exists(directory) is False:\n",
    "    os.makedirs(directory)\n",
    "\n",
    "for i in range(entrynum):\n",
    "    index = i * 3\n",
    "    \n",
    "    tmp = [tables[index+1].rstrip()]\n",
    "    if tmp[0][-3:] == \"New\":\n",
    "        tmp[0] = tmp[0][:-3].rstrip()\n",
    "    tmp.append(tables[index+2].split(' ')[1])\n",
    "    \n",
    "    try:\n",
    "        entry = driver.find_element_by_link_text(tmp[0])\n",
    "    except:\n",
    "        time.sleep(3)\n",
    "        entry = driver.find_element_by_link_text(tmp[0])\n",
    "    \n",
    "    ## get description\n",
    "    entry.click()\n",
    "    time.sleep(1)\n",
    "    \n",
    "    ## check premium\n",
    "    premium = True\n",
    "    try:\n",
    "        subscribe = driver.find_element_by_xpath('//*[@id=\"base_content\"]/div[1]/div[2]/div/div/div/div[1]/div/div[2]/strong[1]')\n",
    "    except:\n",
    "        premium = False\n",
    "        \n",
    "    if premium:\n",
    "        tmp.append('Locked')\n",
    "    else:\n",
    "        tmp.append(driver.find_element_by_xpath(\"//div[@class='question-description']\").text)\n",
    "        \n",
    "        qd = driver.find_element_by_xpath(\"//div[@class='question-description']\")\n",
    "        im = Image.open(BytesIO(qd.screenshot_as_png))\n",
    "        \n",
    "        filename = directory + 'problem' + str(i+1) + '.png'\n",
    "        im.save(filename)\n",
    "        \n",
    "        time.sleep(1)\n",
    "    \n",
    "    driver.back()\n",
    "    time.sleep(1)\n",
    "    \n",
    "    problems.append(tmp)"
   ]
  },
  {
   "cell_type": "code",
   "execution_count": 10,
   "metadata": {},
   "outputs": [
    {
     "data": {
      "text/plain": [
       "[['Two Sum',\n",
       "  'Easy',\n",
       "  'Given an array of integers, return indices of the two numbers such that they add up to a specific target.\\nYou may assume that each input would have exactly one solution, and you may not use the same element twice.\\nExample:\\nGiven nums = [2, 7, 11, 15], target = 9,\\n\\nBecause nums[0] + nums[1] = 2 + 7 = 9,\\nreturn [0, 1].\\n '],\n",
       " ['Add Two Numbers',\n",
       "  'Medium',\n",
       "  'You are given two non-empty linked lists representing two non-negative integers. The digits are stored in reverse order and each of their nodes contain a single digit. Add the two numbers and return it as a linked list.\\nYou may assume the two numbers do not contain any leading zero, except the number 0 itself.\\nExample\\nInput: (2 -> 4 -> 3) + (5 -> 6 -> 4)\\nOutput: 7 -> 0 -> 8\\nExplanation: 342 + 465 = 807.'],\n",
       " ['Longest Substring Without Repeating Characters',\n",
       "  'Medium',\n",
       "  'Given a string, find the length of the longest substring without repeating characters.\\nExamples:\\nGiven \"abcabcbb\", the answer is \"abc\", which the length is 3.\\nGiven \"bbbbb\", the answer is \"b\", with the length of 1.\\nGiven \"pwwkew\", the answer is \"wke\", with the length of 3. Note that the answer must be a substring, \"pwke\" is a subsequence and not a substring.'],\n",
       " ['Median of Two Sorted Arrays',\n",
       "  'Hard',\n",
       "  'There are two sorted arrays nums1 and nums2 of size m and n respectively.\\nFind the median of the two sorted arrays. The overall run time complexity should be O(log (m+n)).\\nExample 1:\\nnums1 = [1, 3]\\nnums2 = [2]\\n\\nThe median is 2.0\\nExample 2:\\nnums1 = [1, 2]\\nnums2 = [3, 4]\\n\\nThe median is (2 + 3)/2 = 2.5'],\n",
       " ['Longest Palindromic Substring',\n",
       "  'Medium',\n",
       "  'Given a string s, find the longest palindromic substring in s. You may assume that the maximum length of s is 1000.\\nExample 1:\\nInput: \"babad\"\\nOutput: \"bab\"\\nNote: \"aba\" is also a valid answer.\\nExample 2:\\nInput: \"cbbd\"\\nOutput: \"bb\"']]"
      ]
     },
     "execution_count": 10,
     "metadata": {},
     "output_type": "execute_result"
    }
   ],
   "source": []
  },
  {
   "cell_type": "code",
   "execution_count": 24,
   "metadata": {
    "collapsed": true
   },
   "outputs": [],
   "source": [
    "from reportlab.lib.enums import TA_JUSTIFY\n",
    "from reportlab.pdfgen import canvas\n",
    "from reportlab.lib.pagesizes import letter\n",
    "from reportlab.platypus import SimpleDocTemplate, Paragraph, Spacer\n",
    "from reportlab.lib.styles import getSampleStyleSheet, ParagraphStyle\n",
    "from reportlab.lib import utils\n",
    "from reportlab.lib.units import cm"
   ]
  },
  {
   "cell_type": "code",
   "execution_count": 25,
   "metadata": {
    "collapsed": true
   },
   "outputs": [],
   "source": [
    "import reportlab.platypus as pypus"
   ]
  },
  {
   "cell_type": "code",
   "execution_count": 40,
   "metadata": {
    "collapsed": true
   },
   "outputs": [],
   "source": [
    "doc = SimpleDocTemplate(\"experiment.pdf\",pagesize=letter,\n",
    "                        rightMargin=72,leftMargin=72,\n",
    "                        topMargin=72,bottomMargin=18)\n",
    "styles=getSampleStyleSheet()"
   ]
  },
  {
   "cell_type": "code",
   "execution_count": 27,
   "metadata": {
    "collapsed": true
   },
   "outputs": [],
   "source": [
    "difficulty = ParagraphStyle('parrafos',\n",
    "                    alignment = TA_JUSTIFY,\n",
    "                    fontSize = 8,\n",
    "                    fontName=\"Times-Roman\",\n",
    "                  )"
   ]
  },
  {
   "cell_type": "code",
   "execution_count": 28,
   "metadata": {
    "collapsed": true
   },
   "outputs": [],
   "source": [
    "def get_image(path, width=1*cm):\n",
    "    img = utils.ImageReader(path)\n",
    "    iw, ih = img.getSize()\n",
    "    aspect = ih / float(iw)\n",
    "    return pypus.Image(path, width=width, height=(width * aspect))"
   ]
  },
  {
   "cell_type": "code",
   "execution_count": 38,
   "metadata": {
    "collapsed": true
   },
   "outputs": [],
   "source": [
    "Content = []"
   ]
  },
  {
   "cell_type": "code",
   "execution_count": 39,
   "metadata": {
    "collapsed": true
   },
   "outputs": [],
   "source": [
    "for i in range(20):\n",
    "    Content.append(Paragraph(str(i+1) + \"\\t\" + problems[i][0], styles[\"Normal\"]))\n",
    "    Content.append(Paragraph(problems[i][1], difficulty))\n",
    "    \n",
    "    Content.append(Spacer(1, 12))\n",
    "    \n",
    "    imagename = directory + 'problem' + str(i+1) +'.png'\n",
    "    Content.append(get_image(imagename, width=16*cm))\n",
    "    \n",
    "    Content.append(Spacer(1, 50))\n"
   ]
  },
  {
   "cell_type": "code",
   "execution_count": 41,
   "metadata": {
    "collapsed": true
   },
   "outputs": [],
   "source": [
    "doc.build(Content)"
   ]
  },
  {
   "cell_type": "code",
   "execution_count": 42,
   "metadata": {
    "collapsed": true
   },
   "outputs": [],
   "source": []
  },
  {
   "cell_type": "code",
   "execution_count": null,
   "metadata": {
    "collapsed": true
   },
   "outputs": [],
   "source": []
  },
  {
   "cell_type": "code",
   "execution_count": 81,
   "metadata": {
    "collapsed": true
   },
   "outputs": [],
   "source": []
  },
  {
   "cell_type": "code",
   "execution_count": 71,
   "metadata": {},
   "outputs": [
    {
     "data": {
      "text/plain": [
       "319"
      ]
     },
     "execution_count": 71,
     "metadata": {},
     "output_type": "execute_result"
    }
   ],
   "source": []
  },
  {
   "cell_type": "code",
   "execution_count": 34,
   "metadata": {
    "collapsed": true
   },
   "outputs": [],
   "source": []
  },
  {
   "cell_type": "code",
   "execution_count": 46,
   "metadata": {},
   "outputs": [
    {
     "data": {
      "text/plain": [
       "1428"
      ]
     },
     "execution_count": 46,
     "metadata": {},
     "output_type": "execute_result"
    }
   ],
   "source": []
  },
  {
   "cell_type": "code",
   "execution_count": 47,
   "metadata": {},
   "outputs": [
    {
     "data": {
      "text/plain": [
       "True"
      ]
     },
     "execution_count": 47,
     "metadata": {},
     "output_type": "execute_result"
    }
   ],
   "source": []
  },
  {
   "cell_type": "code",
   "execution_count": 49,
   "metadata": {
    "collapsed": true
   },
   "outputs": [],
   "source": [
    "# import pandas as pd\n",
    "# df = pd.DataFrame(problems)\n",
    "# df.to_csv(\"leetcode_problem.csv\")\n",
    "\n",
    "filename = 'leetcode_problems.md'\n",
    "with open(filename, 'w') as f:\n",
    "    problem_no = 1\n",
    "    for problem in problems:\n",
    "        f.write('Problem No.' + str(problem_no) + '  ' + problem[0] + '\\n\\n')\n",
    "        problem_no += 1\n",
    "        \n",
    "        f.write(problem[2])\n",
    "        f.write('\\n\\n\\n\\n\\n\\n')\n",
    "        "
   ]
  },
  {
   "cell_type": "code",
   "execution_count": 42,
   "metadata": {
    "collapsed": true
   },
   "outputs": [],
   "source": [
    "driver.quit()"
   ]
  },
  {
   "cell_type": "code",
   "execution_count": null,
   "metadata": {
    "collapsed": true
   },
   "outputs": [],
   "source": []
  },
  {
   "cell_type": "code",
   "execution_count": null,
   "metadata": {
    "collapsed": true
   },
   "outputs": [],
   "source": []
  },
  {
   "cell_type": "code",
   "execution_count": null,
   "metadata": {
    "collapsed": true
   },
   "outputs": [],
   "source": []
  },
  {
   "cell_type": "code",
   "execution_count": null,
   "metadata": {
    "collapsed": true
   },
   "outputs": [],
   "source": []
  }
 ],
 "metadata": {
  "kernelspec": {
   "display_name": "Python 3",
   "language": "python",
   "name": "python3"
  },
  "language_info": {
   "codemirror_mode": {
    "name": "ipython",
    "version": 3
   },
   "file_extension": ".py",
   "mimetype": "text/x-python",
   "name": "python",
   "nbconvert_exporter": "python",
   "pygments_lexer": "ipython3",
   "version": "3.6.3"
  }
 },
 "nbformat": 4,
 "nbformat_minor": 2
}
